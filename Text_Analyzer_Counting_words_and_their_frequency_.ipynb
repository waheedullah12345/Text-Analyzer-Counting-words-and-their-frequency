{
  "nbformat": 4,
  "nbformat_minor": 0,
  "metadata": {
    "colab": {
      "provenance": []
    },
    "kernelspec": {
      "name": "python3",
      "display_name": "Python 3"
    },
    "language_info": {
      "name": "python"
    }
  },
  "cells": [
    {
      "cell_type": "code",
      "execution_count": 1,
      "metadata": {
        "id": "eU2odXb13VN7"
      },
      "outputs": [],
      "source": [
        "text = '''There are many people who leave an irreversible stamp on history. But there are few who actually create history.\n",
        "Qaed-e-Azam Mohammed Ali Jinnah was one such rare individual. In his early years, leading luminary of freedom struggle Sarojini Naidu described Jinnah as an ambassador of Hindu-Muslim unity.\n",
        "His address to the Constituent Assembly of Pakistan on 11 August 1947 is really a classic and a forceful espousal of a secular state in which every citizen would be free to follow his own religion.\n",
        "The State shall make no distinction between the citizens on the grounds of faith. My respectful homage to this great man.'''"
      ]
    },
    {
      "cell_type": "code",
      "source": [
        "text"
      ],
      "metadata": {
        "colab": {
          "base_uri": "https://localhost:8080/",
          "height": 88
        },
        "id": "VlJPFx5S3w_n",
        "outputId": "7e7d12a3-48dc-4271-94f9-bc556d53e1f4"
      },
      "execution_count": 2,
      "outputs": [
        {
          "output_type": "execute_result",
          "data": {
            "text/plain": [
              "'There are many people who leave an irreversible stamp on history. But there are few who actually create history. \\nQaed-e-Azam Mohammed Ali Jinnah was one such rare individual. In his early years, leading luminary of freedom struggle Sarojini Naidu described Jinnah as an ambassador of Hindu-Muslim unity. \\nHis address to the Constituent Assembly of Pakistan on 11 August 1947 is really a classic and a forceful espousal of a secular state in which every citizen would be free to follow his own religion. \\nThe State shall make no distinction between the citizens on the grounds of faith. My respectful homage to this great man.'"
            ],
            "application/vnd.google.colaboratory.intrinsic+json": {
              "type": "string"
            }
          },
          "metadata": {},
          "execution_count": 2
        }
      ]
    },
    {
      "cell_type": "code",
      "source": [
        "print(len(text))"
      ],
      "metadata": {
        "colab": {
          "base_uri": "https://localhost:8080/"
        },
        "id": "wGfNrGHs38C7",
        "outputId": "915cfc1f-9f0b-4c5a-f4fd-6953a4017eab"
      },
      "execution_count": 3,
      "outputs": [
        {
          "output_type": "stream",
          "name": "stdout",
          "text": [
            "626\n"
          ]
        }
      ]
    },
    {
      "cell_type": "code",
      "source": [
        "print(text.split())"
      ],
      "metadata": {
        "colab": {
          "base_uri": "https://localhost:8080/"
        },
        "id": "woZNL4je38H-",
        "outputId": "dbd06610-37c4-4d98-edab-18aaa1a307bc"
      },
      "execution_count": 4,
      "outputs": [
        {
          "output_type": "stream",
          "name": "stdout",
          "text": [
            "['There', 'are', 'many', 'people', 'who', 'leave', 'an', 'irreversible', 'stamp', 'on', 'history.', 'But', 'there', 'are', 'few', 'who', 'actually', 'create', 'history.', 'Qaed-e-Azam', 'Mohammed', 'Ali', 'Jinnah', 'was', 'one', 'such', 'rare', 'individual.', 'In', 'his', 'early', 'years,', 'leading', 'luminary', 'of', 'freedom', 'struggle', 'Sarojini', 'Naidu', 'described', 'Jinnah', 'as', 'an', 'ambassador', 'of', 'Hindu-Muslim', 'unity.', 'His', 'address', 'to', 'the', 'Constituent', 'Assembly', 'of', 'Pakistan', 'on', '11', 'August', '1947', 'is', 'really', 'a', 'classic', 'and', 'a', 'forceful', 'espousal', 'of', 'a', 'secular', 'state', 'in', 'which', 'every', 'citizen', 'would', 'be', 'free', 'to', 'follow', 'his', 'own', 'religion.', 'The', 'State', 'shall', 'make', 'no', 'distinction', 'between', 'the', 'citizens', 'on', 'the', 'grounds', 'of', 'faith.', 'My', 'respectful', 'homage', 'to', 'this', 'great', 'man.']\n"
          ]
        }
      ]
    },
    {
      "cell_type": "code",
      "source": [
        "print(len(text.split()))"
      ],
      "metadata": {
        "colab": {
          "base_uri": "https://localhost:8080/"
        },
        "id": "L1tkvS6J38Lb",
        "outputId": "6b69ea2f-0a34-4425-b3dc-e6feebf45e42"
      },
      "execution_count": 8,
      "outputs": [
        {
          "output_type": "stream",
          "name": "stdout",
          "text": [
            "8\n"
          ]
        }
      ]
    },
    {
      "cell_type": "code",
      "source": [
        "text = \"a b c a a d c b A\""
      ],
      "metadata": {
        "id": "vYAKoOCT38Od"
      },
      "execution_count": 14,
      "outputs": []
    },
    {
      "cell_type": "code",
      "source": [
        "text.split()"
      ],
      "metadata": {
        "colab": {
          "base_uri": "https://localhost:8080/"
        },
        "id": "hKZenUiw4zUz",
        "outputId": "28b63fb7-af3c-449c-902c-bcc25bb10ad8"
      },
      "execution_count": 15,
      "outputs": [
        {
          "output_type": "execute_result",
          "data": {
            "text/plain": [
              "['a', 'b', 'c', 'a', 'a', 'd', 'c', 'b', 'A']"
            ]
          },
          "metadata": {},
          "execution_count": 15
        }
      ]
    },
    {
      "cell_type": "code",
      "source": [
        "word_count = {}\n",
        "\n",
        "for word in text.split():\n",
        "  print(word)"
      ],
      "metadata": {
        "colab": {
          "base_uri": "https://localhost:8080/"
        },
        "id": "CXLExet44zbI",
        "outputId": "75243d89-9e83-4d70-9e92-4c996e82636a"
      },
      "execution_count": 16,
      "outputs": [
        {
          "output_type": "stream",
          "name": "stdout",
          "text": [
            "a\n",
            "b\n",
            "c\n",
            "a\n",
            "a\n",
            "d\n",
            "c\n",
            "b\n",
            "A\n"
          ]
        }
      ]
    },
    {
      "cell_type": "code",
      "source": [
        "word_count = {}\n",
        "for word in text.split():\n",
        "  word_count[word] = 1\n",
        "print(word_count)"
      ],
      "metadata": {
        "colab": {
          "base_uri": "https://localhost:8080/"
        },
        "id": "X2w13ytb5QbC",
        "outputId": "2143f10d-6662-413b-ce1a-28be42bf9d95"
      },
      "execution_count": 17,
      "outputs": [
        {
          "output_type": "stream",
          "name": "stdout",
          "text": [
            "{'a': 1, 'b': 1, 'c': 1, 'd': 1, 'A': 1}\n"
          ]
        }
      ]
    },
    {
      "cell_type": "code",
      "source": [
        "word_count = {}\n",
        "for word in text.lower().split():\n",
        "  if word in word_count:\n",
        "    word_count[word] = word_count[word]+1\n",
        "  else:\n",
        "    word_count[word] =1\n",
        "print(word_count)"
      ],
      "metadata": {
        "colab": {
          "base_uri": "https://localhost:8080/"
        },
        "id": "cJSMMRmv5Qdz",
        "outputId": "2a91be5f-6105-47dc-baf8-538610024b0e"
      },
      "execution_count": 19,
      "outputs": [
        {
          "output_type": "stream",
          "name": "stdout",
          "text": [
            "{'a': 4, 'b': 2, 'c': 2, 'd': 1}\n"
          ]
        }
      ]
    },
    {
      "cell_type": "code",
      "source": [
        "text = '''There are many people who leave an irreversible stamp on history. But there are few who actually create history.\n",
        "Qaed-e-Azam Mohammed Ali Jinnah was one such rare individual. In his early years, leading luminary of freedom struggle Sarojini Naidu described Jinnah as an ambassador of Hindu-Muslim unity.\n",
        "His address to the Constituent Assembly of Pakistan on 11 August 1947 is really a classic and a forceful espousal of a secular state in which every citizen would be free to follow his own religion.\n",
        "The State shall make no distinction between the citizens on the grounds of faith. My respectful homage to this great man.'''"
      ],
      "metadata": {
        "id": "moiIB1HV5Qgp"
      },
      "execution_count": 20,
      "outputs": []
    },
    {
      "cell_type": "code",
      "source": [
        "word_count = {}\n",
        "for word in text.lower().split():\n",
        "  if word in word_count:\n",
        "    word_count[word] = word_count[word]+1\n",
        "  else:\n",
        "    word_count[word] =1\n",
        "print(word_count)"
      ],
      "metadata": {
        "colab": {
          "base_uri": "https://localhost:8080/"
        },
        "id": "-0ea7d4I7nhA",
        "outputId": "db2d5c57-1ae9-4bc8-f373-823d24dd31c1"
      },
      "execution_count": 21,
      "outputs": [
        {
          "output_type": "stream",
          "name": "stdout",
          "text": [
            "{'there': 2, 'are': 2, 'many': 1, 'people': 1, 'who': 2, 'leave': 1, 'an': 2, 'irreversible': 1, 'stamp': 1, 'on': 3, 'history.': 2, 'but': 1, 'few': 1, 'actually': 1, 'create': 1, 'qaed-e-azam': 1, 'mohammed': 1, 'ali': 1, 'jinnah': 2, 'was': 1, 'one': 1, 'such': 1, 'rare': 1, 'individual.': 1, 'in': 2, 'his': 3, 'early': 1, 'years,': 1, 'leading': 1, 'luminary': 1, 'of': 5, 'freedom': 1, 'struggle': 1, 'sarojini': 1, 'naidu': 1, 'described': 1, 'as': 1, 'ambassador': 1, 'hindu-muslim': 1, 'unity.': 1, 'address': 1, 'to': 3, 'the': 4, 'constituent': 1, 'assembly': 1, 'pakistan': 1, '11': 1, 'august': 1, '1947': 1, 'is': 1, 'really': 1, 'a': 3, 'classic': 1, 'and': 1, 'forceful': 1, 'espousal': 1, 'secular': 1, 'state': 2, 'which': 1, 'every': 1, 'citizen': 1, 'would': 1, 'be': 1, 'free': 1, 'follow': 1, 'own': 1, 'religion.': 1, 'shall': 1, 'make': 1, 'no': 1, 'distinction': 1, 'between': 1, 'citizens': 1, 'grounds': 1, 'faith.': 1, 'my': 1, 'respectful': 1, 'homage': 1, 'this': 1, 'great': 1, 'man.': 1}\n"
          ]
        }
      ]
    },
    {
      "cell_type": "code",
      "source": [
        "sorted_text = dict(sorted(word_count.items(), key = lambda item: item[1], reverse = True))\n",
        "print(sorted_text)"
      ],
      "metadata": {
        "colab": {
          "base_uri": "https://localhost:8080/"
        },
        "id": "fSXG_BYe7nk6",
        "outputId": "2a77697e-f7a2-4378-bd83-1581076f5182"
      },
      "execution_count": 24,
      "outputs": [
        {
          "output_type": "stream",
          "name": "stdout",
          "text": [
            "{'of': 5, 'the': 4, 'on': 3, 'his': 3, 'to': 3, 'a': 3, 'there': 2, 'are': 2, 'who': 2, 'an': 2, 'history.': 2, 'jinnah': 2, 'in': 2, 'state': 2, 'many': 1, 'people': 1, 'leave': 1, 'irreversible': 1, 'stamp': 1, 'but': 1, 'few': 1, 'actually': 1, 'create': 1, 'qaed-e-azam': 1, 'mohammed': 1, 'ali': 1, 'was': 1, 'one': 1, 'such': 1, 'rare': 1, 'individual.': 1, 'early': 1, 'years,': 1, 'leading': 1, 'luminary': 1, 'freedom': 1, 'struggle': 1, 'sarojini': 1, 'naidu': 1, 'described': 1, 'as': 1, 'ambassador': 1, 'hindu-muslim': 1, 'unity.': 1, 'address': 1, 'constituent': 1, 'assembly': 1, 'pakistan': 1, '11': 1, 'august': 1, '1947': 1, 'is': 1, 'really': 1, 'classic': 1, 'and': 1, 'forceful': 1, 'espousal': 1, 'secular': 1, 'which': 1, 'every': 1, 'citizen': 1, 'would': 1, 'be': 1, 'free': 1, 'follow': 1, 'own': 1, 'religion.': 1, 'shall': 1, 'make': 1, 'no': 1, 'distinction': 1, 'between': 1, 'citizens': 1, 'grounds': 1, 'faith.': 1, 'my': 1, 'respectful': 1, 'homage': 1, 'this': 1, 'great': 1, 'man.': 1}\n"
          ]
        }
      ]
    },
    {
      "cell_type": "code",
      "source": [
        "first_item = next(iter(sorted_text))"
      ],
      "metadata": {
        "id": "OFolVl0q4zeD"
      },
      "execution_count": 25,
      "outputs": []
    },
    {
      "cell_type": "code",
      "source": [
        "print(first_item)"
      ],
      "metadata": {
        "colab": {
          "base_uri": "https://localhost:8080/"
        },
        "id": "ySXY_3Eg9i5J",
        "outputId": "ae1a8755-00ac-473c-cdd6-e55fca793d28"
      },
      "execution_count": 26,
      "outputs": [
        {
          "output_type": "stream",
          "name": "stdout",
          "text": [
            "of\n"
          ]
        }
      ]
    }
  ]
}